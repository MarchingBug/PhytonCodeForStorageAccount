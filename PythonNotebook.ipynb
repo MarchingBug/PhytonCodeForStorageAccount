{
 "cells": [
  {
   "cell_type": "markdown",
   "metadata": {},
   "source": [
    "This Notebook has examples in Python to load files from local drive to Azure Storage Account"
   ]
  },
  {
   "cell_type": "code",
   "execution_count": null,
   "metadata": {},
   "outputs": [],
   "source": [
    "from azure.core.credentials import AzureKeyCredential\n",
    "from azure.storage.blob import BlobServiceClient, BlobSasPermissions, generate_blob_sas,generate_container_sas,ContainerClient\n",
    "from azure.storage.blob import ResourceTypes, AccountSasPermissions, generate_account_sas\n",
    "from azure.identity import DefaultAzureCredential\n",
    "from azure.keyvault.secrets import SecretClient\n",
    "import os\n",
    "import sys\n",
    "import datetime\n",
    "from datetime import datetime, timedelta\n",
    "from dotenv import load_dotenv\n",
    "import os\n",
    "import requests\n",
    "import csv\n",
    "import urllib.request, urllib.parse, urllib.error,  urllib\n"
   ]
  },
  {
   "cell_type": "code",
   "execution_count": null,
   "metadata": {},
   "outputs": [],
   "source": [
    "AZURE_ACC_NAME = os.environ['AccountName']\n",
    "AZURE_PRIMARY_KEY = os.environ['AccountAccessKey']\n",
    "STORAGE_ACCOUNT_CONTAINER = os.environ['StorageAccountContainer']\n",
    "\n",
    "storage_account_connection_string = \"DefaultEndpointsProtocol=https;AccountName=\"+AZURE_ACC_NAME+\";AccountKey=\"+AZURE_PRIMARY_KEY+\";EndpointSuffix=core.windows.net\""
   ]
  },
  {
   "cell_type": "markdown",
   "metadata": {},
   "source": [
    "Build the connection to the storage account using a SAS token"
   ]
  },
  {
   "cell_type": "code",
   "execution_count": null,
   "metadata": {},
   "outputs": [],
   "source": [
    "\n",
    "def build_connection_string(file_name):\n",
    "   \n",
    "    #optional, import account and key from Azure Key Vault - not shown here, but function is listed below\n",
    "    \n",
    "    this_container_url = \"DefaultEndpointsProtocol=https;AccountName=\"+AZURE_ACC_NAME+\";AccountKey=\"+AZURE_PRIMARY_KEY+\";EndpointSuffix=core.windows.net\"\n",
    "   \n",
    "    # Return the connection string\n",
    "    return this_container_url\n"
   ]
  },
  {
   "cell_type": "markdown",
   "metadata": {},
   "source": [
    "This function read Azure Key Vault to retrieve the connection string from a secure place, you can use this method if rather store the account key and account name in a Key Vault"
   ]
  },
  {
   "cell_type": "code",
   "execution_count": null,
   "metadata": {},
   "outputs": [],
   "source": [
    "\n",
    "\n",
    "def read_secret_from_key_vault(vault_url, secret_name):\n",
    "    # Create a credential object using the default Azure identity\n",
    "    credential = DefaultAzureCredential()\n",
    "\n",
    "    # Create a secret client using the vault url and the credential\n",
    "    secret_client = SecretClient(vault_url=vault_url, credential=credential)\n",
    "\n",
    "    # Get the secret from the key vault using the secret name\n",
    "    retrieved_secret = secret_client.get_secret(secret_name)\n",
    "\n",
    "    # Return the secret value as a string\n",
    "    return retrieved_secret.value\n"
   ]
  },
  {
   "cell_type": "code",
   "execution_count": null,
   "metadata": {},
   "outputs": [],
   "source": [
    "\n",
    "def SaveToContainer(local_file_path,file_name):\n",
    "    try:\n",
    "        \n",
    "        connect_str= build_connection_string(file_name)\n",
    "        print(connect_str)\n",
    "        \n",
    "        blob_service_client = BlobServiceClient.from_connection_string(connect_str)       \n",
    "        \n",
    "        \n",
    "        print(local_file_path)\n",
    "        blob_client = blob_service_client.get_blob_client(container=STORAGE_ACCOUNT_CONTAINER, blob=file_name)\n",
    "        with open(local_file_path, \"rb\") as data:\n",
    "            blob_client.upload_blob(data)\n",
    "\n",
    "        print(\"file Uploaded\")\n",
    "        return True\n",
    "    except Exception as e:\n",
    "        print(e)\n",
    "        return False\n"
   ]
  },
  {
   "cell_type": "code",
   "execution_count": null,
   "metadata": {},
   "outputs": [],
   "source": [
    "def UploadFile(local_file_path):    \n",
    "   \n",
    "    file_name = os.path.basename(local_file_path)\n",
    "    return SaveToContainer(local_file_path,file_name)\n",
    "    "
   ]
  },
  {
   "cell_type": "code",
   "execution_count": null,
   "metadata": {},
   "outputs": [],
   "source": [
    "the_file = r\"C:/Projects/PhytonCodeForStorageAccount/art.jpg\"\n",
    "\n",
    "\n",
    "UploadFile(the_file)\n",
    "\n"
   ]
  }
 ],
 "metadata": {
  "kernelspec": {
   "display_name": "Python 3",
   "language": "python",
   "name": "python3"
  },
  "language_info": {
   "codemirror_mode": {
    "name": "ipython",
    "version": 3
   },
   "file_extension": ".py",
   "mimetype": "text/x-python",
   "name": "python",
   "nbconvert_exporter": "python",
   "pygments_lexer": "ipython3",
   "version": "3.9.13"
  },
  "orig_nbformat": 4
 },
 "nbformat": 4,
 "nbformat_minor": 2
}
